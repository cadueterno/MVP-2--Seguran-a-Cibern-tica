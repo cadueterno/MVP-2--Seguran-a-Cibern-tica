{
 "cells": [
  {
   "cell_type": "markdown",
   "metadata": {},
   "source": ["# RT-IoT2022 - Projeto de Machine Learning\n",
              "**Objetivo Acadêmico:** Este projeto visa detectar tráfego malicioso em dispositivos IoT, utilizando modelos clássicos de Machine Learning.\n",
              "A tarefa consiste em classificar o tráfego como benigno ou malicioso, sendo uma aplicação prática de detecção de intrusão em redes IoT."]
  },
  {
   "cell_type": "markdown",
   "metadata": {},
   "source": ["## 1. Importação de bibliotecas\n",
              "Nesta etapa, importamos bibliotecas essenciais para manipulação de dados, pré-processamento, modelagem e avaliação de modelos de Machine Learning."]
  },
  {
   "cell_type": "code",
   "metadata": {},
   "source": ["import pandas as pd\n",
              "import numpy as np\n",
              "from sklearn.model_selection import train_test_split, GridSearchCV, StratifiedKFold\n",
              "from sklearn.preprocessing import StandardScaler, LabelEncoder\n",
              "from sklearn.pipeline import Pipeline\n",
              "from sklearn.metrics import classification_report, confusion_matrix, accuracy_score\n",
              "from sklearn.ensemble import RandomForestClassifier, GradientBoostingClassifier\n",
              "from sklearn.linear_model import LogisticRegression\n",
              "from sklearn.svm import SVC\n",
              "from sklearn.neighbors import KNeighborsClassifier"]
  },
  {
   "cell_type": "markdown",
   "metadata": {},
   "source": ["## 2. Carregamento do Dataset\n",
              "O dataset RT-IoT2022 foi obtido do UCI Machine Learning Repository. Contém aproximadamente 123.000 instâncias e 83 atributos, descrevendo o tráfego de rede de dispositivos IoT, incluindo cenários de ataques e tráfego benigno."]
  },
  {
   "cell_type": "code",
   "metadata": {},
   "source": ["df = pd.read_csv('RT-IoT2022.csv')\n",
              "# Visualização inicial\n",
              "df.head()\n",
              "df.info()\n",
              "df.isnull().sum()"]
  },
  {
   "cell_type": "markdown",
   "metadata": {},
   "source": ["## 3. Pré-processamento\n",
              "Nesta etapa, realizamos a separação entre atributos e rótulo, codificação das classes, e divisão entre conjunto de treino e teste mantendo a proporção das classes originais."]
  },
  {
   "cell_type": "code",
   "metadata": {},
   "source": ["X = df.drop('label', axis=1)\n",
              "y = df['label']\n",
              "le = LabelEncoder()\n",
              "y = le.fit_transform(y)\n",
              "X_train, X_test, y_train, y_test = train_test_split(X, y, test_size=0.2, stratify=y, random_state=42)"]
  },
  {
   "cell_type": "markdown",
   "metadata": {},
   "source": ["## 4. Criação de Pipelines e Hiperparâmetros\n",
              "Foram selecionados cinco modelos clássicos de Machine Learning: Random Forest, Gradient Boosting, Logistic Regression, SVM e KNN. Cada modelo será encapsulado em um pipeline que inclui padronização dos atributos e otimização de hiperparâmetros via GridSearchCV."]
  },
  {
   "cell_type": "code",
   "metadata": {},
   "source": ["pipelines = {\n",
              "    'rf': Pipeline([('scaler', StandardScaler()), ('clf', RandomForestClassifier(random_state=42))]),\n",
              "    'gb': Pipeline([('scaler', StandardScaler()), ('clf', GradientBoostingClassifier(random_state=42))]),\n",
              "    'lr': Pipeline([('scaler', StandardScaler()), ('clf', LogisticRegression(max_iter=1000, random_state=42))]),\n",
              "    'svm': Pipeline([('scaler', StandardScaler()), ('clf', SVC(random_state=42))]),\n",
              "    'knn': Pipeline([('scaler', StandardScaler()), ('clf', KNeighborsClassifier())])\n",
              "}\n",
              "params = {\n",
              "    'rf': {'clf__n_estimators':[100,200], 'clf__max_depth':[None,10,20]},\n",
              "    'gb': {'clf__n_estimators':[100,200], 'clf__learning_rate':[0.01,0.1]},\n",
              "    'lr': {'clf__C':[0.1,1,10]},\n",
              "    'svm': {'clf__C':[0.1,1,10], 'clf__kernel':['linear','rbf']},\n",
              "    'knn': {'clf__n_neighbors':[3,5,7]}\n",
              "}"]
  },
  {
   "cell_type": "markdown",
   "metadata": {},
   "source": ["## 5. Treinamento e Validação com Cross-Validation\n",
              "Aplicamos validação cruzada estratificada (5 folds) para garantir avaliação robusta e generalizável dos modelos. GridSearchCV é usado para encontrar os melhores hiperparâmetros."]
  },
  {
   "cell_type": "code",
   "metadata": {},
   "source": ["cv = StratifiedKFold(n_splits=5, shuffle=True, random_state=42)\n",
              "best_models = {}\n",
              "for name in pipelines:\n",
              "    grid = GridSearchCV(pipelines[name], params[name], cv=cv, scoring='accuracy', n_jobs=-1)\n",
              "    grid.fit(X_train, y_train)\n",
              "    best_models[name] = grid.best_estimator_\n",
              "    print(f'{name} melhor score CV: {grid.best_score_:.4f}')\n",
              "    print(f'Melhores parâmetros: {grid.best_params_}\n')"]
  },
  {
   "cell_type": "markdown",
   "metadata": {},
   "source": ["## 6. Avaliação no Conjunto de Teste\n",
              "Avaliação dos modelos treinados no conjunto de teste com métricas como acurácia, precision, recall, F1-score e matriz de confusão. Esta etapa permite comparar o desempenho e robustez dos modelos."]
  },
  {
   "cell_type": "code",
   "metadata": {},
   "source": ["for name, model in best_models.items():\n",
              "    y_pred = model.predict(X_test)\n",
              "    print(f'Modelo: {name}')\n",
              "    print(f'Acurácia: {accuracy_score(y_test, y_pred):.4f}')\n",
              "    print('Classification Report:')\n",
              "    print(classification_report(y_test, y_pred))\n",
              "    print('Confusion Matrix:')\n",
              "    print(confusion_matrix(y_test, y_pred))\n",
              "    print('-'*50)"]
  },
  {
   "cell_type": "markdown",
   "metadata": {},
   "source": ["## 7. Conclusão\n",
              "Os resultados obtidos permitem comparar os modelos de ML quanto à performance e selecionar o mais adequado para detecção de tráfego malicioso em IoT.\n",
              "O notebook está pronto para ser utilizado em apresentações acadêmicas ou upload direto no GitHub."]
  }
 ],
 "metadata": {"kernelspec": {"name": "python3", "display_name": "Python 3"}, "language_info": {"name": "python"}},
 "nbformat": 4,
 "nbformat_minor": 5
}
